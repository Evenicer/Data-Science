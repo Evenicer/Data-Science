{
  "nbformat": 4,
  "nbformat_minor": 0,
  "metadata": {
    "colab": {
      "name": "ReadData.ipynb",
      "provenance": [],
      "collapsed_sections": [],
      "authorship_tag": "ABX9TyNnbPFxCv++/3XqKNBOEZv4",
      "include_colab_link": true
    },
    "kernelspec": {
      "name": "python3",
      "display_name": "Python 3"
    },
    "language_info": {
      "name": "python"
    }
  },
  "cells": [
    {
      "cell_type": "markdown",
      "metadata": {
        "id": "view-in-github",
        "colab_type": "text"
      },
      "source": [
        "<a href=\"https://colab.research.google.com/github/Evenicer/Data-Science/blob/master/ReadData.ipynb\" target=\"_parent\"><img src=\"https://colab.research.google.com/assets/colab-badge.svg\" alt=\"Open In Colab\"/></a>"
      ]
    },
    {
      "cell_type": "code",
      "execution_count": 2,
      "metadata": {
        "id": "TktJ2R5s4fKY"
      },
      "outputs": [],
      "source": [
        "import pandas as pd"
      ]
    },
    {
      "cell_type": "markdown",
      "source": [
        "Para manipular cvs"
      ],
      "metadata": {
        "id": "aUUzT0AO7UJW"
      }
    },
    {
      "cell_type": "code",
      "source": [
        "df_books = pd.read_csv('/content/bestsellers-with-categories_e591527f-ae45-4fa5-b0d1-d50142128fa6.csv' , sep=',', header=0)"
      ],
      "metadata": {
        "id": "WH_j8EV95HOU"
      },
      "execution_count": 14,
      "outputs": []
    },
    {
      "cell_type": "code",
      "source": [
        "df_books.columns"
      ],
      "metadata": {
        "id": "p9IWCeRE5_uc"
      },
      "execution_count": null,
      "outputs": []
    },
    {
      "cell_type": "markdown",
      "source": [
        "Para manipular Json"
      ],
      "metadata": {
        "id": "UjSdbsOK7XCY"
      }
    },
    {
      "cell_type": "code",
      "source": [
        "pd.read_json('/content/HPCharactersDataRaw.json', typ='Series')"
      ],
      "metadata": {
        "colab": {
          "base_uri": "https://localhost:8080/"
        },
        "id": "v1Z4rBrT7ZMD",
        "outputId": "499f8081-fbbf-4461-91f9-1af492bc5b32"
      },
      "execution_count": 18,
      "outputs": [
        {
          "output_type": "execute_result",
          "data": {
            "text/plain": [
              "0       {'Name': 'Mrs. Abbott', 'Link': 'https://www.h...\n",
              "1       {'Name': 'Hannah Abbott', 'Link': 'https://www...\n",
              "2       {'Name': 'Abel Treetops', 'Link': 'https://www...\n",
              "3       {'Name': 'Euan Abercrombie', 'Link': 'https://...\n",
              "4       {'Name': 'Aberforth Dumbledore', 'Link': 'http...\n",
              "                              ...                        \n",
              "1935    {'Name': 'Georgi Zdravko', 'Link': 'https://ww...\n",
              "1936    {'Name': 'Zograf', 'Link': 'https://www.hp-lex...\n",
              "1937    {'Name': 'Zonko', 'Link': 'https://www.hp-lexi...\n",
              "1938    {'Name': 'Valentina Vázquez', 'Link': 'https:/...\n",
              "1939    {'Name': 'Zygmunt Budge', 'Link': 'https://www...\n",
              "Length: 1940, dtype: object"
            ]
          },
          "metadata": {},
          "execution_count": 18
        }
      ]
    }
  ]
}